{
 "cells": [
  {
   "cell_type": "markdown",
   "id": "ef2a20be",
   "metadata": {},
   "source": [
    "# Номер 1"
   ]
  },
  {
   "cell_type": "code",
   "execution_count": 1,
   "id": "5999bec4",
   "metadata": {},
   "outputs": [
    {
     "name": "stdout",
     "output_type": "stream",
     "text": [
      "1 2 3 4 5 6 7 8 9\n",
      "1 3 5 7 9\n"
     ]
    }
   ],
   "source": [
    "print(' '.join(input().split()[::2]))"
   ]
  },
  {
   "cell_type": "markdown",
   "id": "9c846f64",
   "metadata": {},
   "source": [
    "# Номер 2"
   ]
  },
  {
   "cell_type": "markdown",
   "id": "65008852",
   "metadata": {},
   "source": [
    "Скорее всего имелся ввиду второй вариант"
   ]
  },
  {
   "cell_type": "code",
   "execution_count": 7,
   "id": "a1ae5f6a",
   "metadata": {},
   "outputs": [
    {
     "name": "stdout",
     "output_type": "stream",
     "text": [
      "1 2 9 7 42 4 6 4\n",
      "9 2\n"
     ]
    }
   ],
   "source": [
    "a = input().split()\n",
    "print(max(a), a.index(max(a)))"
   ]
  },
  {
   "cell_type": "code",
   "execution_count": 1,
   "id": "51a6d2b0",
   "metadata": {},
   "outputs": [
    {
     "name": "stdout",
     "output_type": "stream",
     "text": [
      "1 2 9 7 42 4 6 4\n",
      "42 4\n"
     ]
    }
   ],
   "source": [
    "a = list(map(int, input().split()))\n",
    "print(max(a), a.index(max(a)))\n"
   ]
  },
  {
   "cell_type": "markdown",
   "id": "7b0ab0fa",
   "metadata": {},
   "source": [
    "# Номер 3"
   ]
  },
  {
   "cell_type": "code",
   "execution_count": 2,
   "id": "f8e7a84f",
   "metadata": {},
   "outputs": [
    {
     "name": "stdout",
     "output_type": "stream",
     "text": [
      "1 2 3 4 5 6 7 8 9\n",
      "9 8 7 6 5 4 3 2 1\n"
     ]
    }
   ],
   "source": [
    "print(' '.join(input().split()[::-1]))"
   ]
  },
  {
   "cell_type": "markdown",
   "id": "dd357021",
   "metadata": {},
   "source": [
    "# Номер 4"
   ]
  },
  {
   "cell_type": "code",
   "execution_count": 3,
   "id": "54da8b95",
   "metadata": {},
   "outputs": [
    {
     "name": "stdout",
     "output_type": "stream",
     "text": [
      "1 2 3 4 5 6\n",
      "2 1 4 3 6 5\n"
     ]
    }
   ],
   "source": [
    "a = input().split()\n",
    "a[ :len(a) - len(a) % 2: 2], a[1::2] = a[1::2], a[ :len(a) - len(a) % 2: 2]\n",
    "print(' '.join(a))"
   ]
  },
  {
   "cell_type": "code",
   "execution_count": 4,
   "id": "c87327c4",
   "metadata": {},
   "outputs": [
    {
     "name": "stdout",
     "output_type": "stream",
     "text": [
      "1 2 3 4 5\n",
      "2 1 4 3 5\n"
     ]
    }
   ],
   "source": [
    "a = input().split()\n",
    "a[ :len(a) - len(a) % 2: 2], a[1::2] = a[1::2], a[ :len(a) - len(a) % 2: 2]\n",
    "print(' '.join(a))"
   ]
  },
  {
   "cell_type": "markdown",
   "id": "d298ebe5",
   "metadata": {},
   "source": [
    "# Номер 5"
   ]
  },
  {
   "cell_type": "code",
   "execution_count": 5,
   "id": "43bb1999",
   "metadata": {},
   "outputs": [
    {
     "name": "stdout",
     "output_type": "stream",
     "text": [
      "1 2 3 4 5\n",
      "5 1 2 3 4\n"
     ]
    }
   ],
   "source": [
    "a = input().split()\n",
    "print(' '.join([a[-1]] + a[:-1]))"
   ]
  },
  {
   "cell_type": "markdown",
   "id": "e5b6a406",
   "metadata": {},
   "source": [
    "# Номер 6"
   ]
  },
  {
   "cell_type": "code",
   "execution_count": 6,
   "id": "ce11adf1",
   "metadata": {},
   "outputs": [
    {
     "name": "stdout",
     "output_type": "stream",
     "text": [
      "1 2 3 4 5 6\n",
      "2\n",
      "1 2 4 5 6\n"
     ]
    }
   ],
   "source": [
    "a = input().split()\n",
    "a.pop(int(input()))\n",
    "print(' '.join(a))"
   ]
  },
  {
   "cell_type": "markdown",
   "id": "5632abdb",
   "metadata": {},
   "source": [
    "# Номер 7"
   ]
  },
  {
   "cell_type": "code",
   "execution_count": 8,
   "id": "9fd945cc",
   "metadata": {},
   "outputs": [
    {
     "name": "stdout",
     "output_type": "stream",
     "text": [
      "7 6 5 4 3 2 1 \n",
      "2 0\n",
      "7 6 0 5 4 3 2 1\n"
     ]
    }
   ],
   "source": [
    "a = input().split()\n",
    "n, elem = map(int, input().split())\n",
    "print(' '.join(a[:n] + [str(elem)] + a[n:]))"
   ]
  },
  {
   "cell_type": "markdown",
   "id": "def6241b",
   "metadata": {},
   "source": [
    "# Номер 8"
   ]
  },
  {
   "cell_type": "code",
   "execution_count": 9,
   "id": "3b40ee54",
   "metadata": {},
   "outputs": [
    {
     "name": "stdout",
     "output_type": "stream",
     "text": [
      "5 3 7 4 6\n",
      "3\n",
      "7 4 6 5 3\n"
     ]
    }
   ],
   "source": [
    "a, n = input().split(), int(input())\n",
    "print(' '.join(a[-n:]) + ' ' + ' '.join(a[:-n]))"
   ]
  }
 ],
 "metadata": {
  "kernelspec": {
   "display_name": "Python 3 (ipykernel)",
   "language": "python",
   "name": "python3"
  },
  "language_info": {
   "codemirror_mode": {
    "name": "ipython",
    "version": 3
   },
   "file_extension": ".py",
   "mimetype": "text/x-python",
   "name": "python",
   "nbconvert_exporter": "python",
   "pygments_lexer": "ipython3",
   "version": "3.11.3"
  }
 },
 "nbformat": 4,
 "nbformat_minor": 5
}
